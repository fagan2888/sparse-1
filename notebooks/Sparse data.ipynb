{
 "metadata": {
  "name": "Sparse data"
 },
 "nbformat": 3,
 "nbformat_minor": 0,
 "worksheets": [
  {
   "cells": [
    {
     "cell_type": "code",
     "collapsed": false,
     "input": [
      "%pylab inline"
     ],
     "language": "python",
     "metadata": {},
     "outputs": [
      {
       "output_type": "stream",
       "stream": "stdout",
       "text": [
        "\n",
        "Welcome to pylab, a matplotlib-based Python environment [backend: module://IPython.kernel.zmq.pylab.backend_inline].\n",
        "For more information, type 'help(pylab)'.\n"
       ]
      }
     ],
     "prompt_number": 1
    },
    {
     "cell_type": "code",
     "collapsed": false,
     "input": [
      "import os\n",
      "import sparse\n",
      "import pandas\n",
      "from sparse.process import *"
     ],
     "language": "python",
     "metadata": {},
     "outputs": [],
     "prompt_number": 5
    },
    {
     "cell_type": "code",
     "collapsed": false,
     "input": [
      "reload(sparse.process)\n",
      "reload(sparse.io)\n",
      "from sparse.process import *"
     ],
     "language": "python",
     "metadata": {},
     "outputs": [],
     "prompt_number": 321
    },
    {
     "cell_type": "markdown",
     "metadata": {},
     "source": [
      "First, get a list of the data files.  I'm only going to analzye data from one cell for now.  So let's load the first one."
     ]
    },
    {
     "cell_type": "code",
     "collapsed": false,
     "input": [
      "datadir = '/Users/mat/Data/cell attached data/'\n",
      "files = os.listdir(datadir)\n",
      "daqs = [ f for f in files if 'daq' in f ]"
     ],
     "language": "python",
     "metadata": {},
     "outputs": [],
     "prompt_number": 316
    },
    {
     "cell_type": "code",
     "collapsed": false,
     "input": [
      "electro, stims = sparse.io.load_file(datadir + daqs[0])"
     ],
     "language": "python",
     "metadata": {},
     "outputs": [
      {
       "output_type": "stream",
       "stream": "stdout",
       "text": [
        "/Users/mat/Data/cell attached data/daq_20111202-xxx999-001-002.mat\n"
       ]
      }
     ],
     "prompt_number": 317
    },
    {
     "cell_type": "code",
     "collapsed": false,
     "input": [
      "signal = electro['signal']\n",
      "spikes, peaks = detect_spikes(signal, threshold=4)"
     ],
     "language": "python",
     "metadata": {},
     "outputs": [],
     "prompt_number": 282
    },
    {
     "cell_type": "code",
     "collapsed": false,
     "input": [
      "plot(spikes[0])"
     ],
     "language": "python",
     "metadata": {},
     "outputs": [
      {
       "metadata": {},
       "output_type": "pyout",
       "prompt_number": 283,
       "text": [
        "[<matplotlib.lines.Line2D at 0x1113bf050>]"
       ]
      },
      {
       "metadata": {},
       "output_type": "display_data",
       "png": "[encoded data removed]",
       "text": [
        "<matplotlib.figure.Figure at 0x10e944550>"
       ]
      }
     ],
     "prompt_number": 283
    },
    {
     "cell_type": "code",
     "collapsed": false,
     "input": [
      "peaks"
     ],
     "language": "python",
     "metadata": {},
     "outputs": [
      {
       "metadata": {},
       "output_type": "pyout",
       "prompt_number": 215,
       "text": [
        "array([], dtype=int64)"
       ]
      }
     ],
     "prompt_number": 215
    },
    {
     "cell_type": "markdown",
     "metadata": {},
     "source": [
      "Seems like setting a threshold of 5 works best here.  Otherwise I also detect noise.  Alright!  Plotting the filtered data and marking the detected spikes.  Now I have spike times."
     ]
    },
    {
     "cell_type": "code",
     "collapsed": false,
     "input": [
      "filtered = butter_filter(signal, high=4999,rate=10000)\n",
      "plot(peaks, [1]*len(peaks), 'ok')\n",
      "plot(filtered)\n",
      "xlim(12000,13600)"
     ],
     "language": "python",
     "metadata": {},
     "outputs": [
      {
       "metadata": {},
       "output_type": "pyout",
       "prompt_number": 228,
       "text": [
        "(12000, 13600)"
       ]
      },
      {
       "metadata": {},
       "output_type": "display_data",
       "png": "[encoded data removed]",
       "text": [
        "<matplotlib.figure.Figure at 0x10e8e52d0>"
       ]
      }
     ],
     "prompt_number": 228
    },
    {
     "cell_type": "markdown",
     "metadata": {},
     "source": [
      "Getting trigger and stimulus onsets now."
     ]
    },
    {
     "cell_type": "code",
     "collapsed": false,
     "input": [
      "triggers = censor(crossings(electro['trigger'], 0.5), width=1000)\n",
      "_, trig_onsets = extract(electro['trigger'], triggers, patch_size=2)\n",
      "plot(electro['trigger']/5.0)\n",
      "plot(trig_onsets, [1]*len(trig_onsets), 'ok')\n",
      "ylim(0,1.2)\n",
      "xlim(81900,82000)"
     ],
     "language": "python",
     "metadata": {},
     "outputs": [
      {
       "metadata": {},
       "output_type": "pyout",
       "prompt_number": 288,
       "text": [
        "(81900, 82000)"
       ]
      },
      {
       "metadata": {},
       "output_type": "display_data",
       "png": "[encoded data removed]",
       "text": [
        "<matplotlib.figure.Figure at 0x10e93a990>"
       ]
      }
     ],
     "prompt_number": 288
    },
    {
     "cell_type": "code",
     "collapsed": false,
     "input": [
      "#remove DC offset\n",
      "filt_stim = butter_filter(electro['stimulus'], low=1, high=4999, rate=10000)\n",
      "filt_stim = np.abs(filt_stim)\n",
      "stim_thresh = medthresh(filt_stim, threshold=5)\n",
      "stim_onsets = censor(crossings(filt_stim, stim_thresh),width=2000)\n",
      "wvfrms, stim_onsets = extract(filt_stim, stim_onsets, offset=-15)\n",
      "plot(filt_stim)\n",
      "plot(stim_onsets, [1]*len(stim_onsets), 'ok')\n",
      "plot(electro['trigger']/5.0)\n",
      "plot(trig_onsets, [1]*len(trig_onsets), 'or')\n",
      "#ylim(0,0.05)\n",
      "xlim(81900,82100)"
     ],
     "language": "python",
     "metadata": {},
     "outputs": [
      {
       "metadata": {},
       "output_type": "pyout",
       "prompt_number": 289,
       "text": [
        "(81900, 82100)"
       ]
      },
      {
       "metadata": {},
       "output_type": "display_data",
       "png": "[encoded data removed]",
       "text": [
        "<matplotlib.figure.Figure at 0x10e933110>"
       ]
      }
     ],
     "prompt_number": 289
    },
    {
     "cell_type": "markdown",
     "metadata": {},
     "source": [
      "I'm going to have to accept that there are triggers without corresponding signals in the speaker voltage.  Do I pretend there are actual stimuli there?  Or do I only analyze data where I know there was a stimulus?  I've decided to trust the triggers, but there is a problem since the stimulus comes on after a trigger with some delay.  I'm going to measure this delay."
     ]
    },
    {
     "cell_type": "code",
     "collapsed": false,
     "input": [
      "# The data cuts off during the last stimulus here\n",
      "responses = np.zeros((len(stim_onsets)-1, 2040))\n",
      "for i, samp in enumerate(stim_onsets[:-1]):\n",
      "    responses[i,:] = filtered[samp-20:samp+2020]"
     ],
     "language": "python",
     "metadata": {},
     "outputs": [],
     "prompt_number": 290
    },
    {
     "cell_type": "code",
     "collapsed": false,
     "input": [
      "paired_onsets = np.zeros(len(stim_onsets))\n",
      "for i, onset in enumerate(stim_onsets):\n",
      "    paired_trigger = trig_onsets[np.where(np.abs(onset-trig_onsets)<150)]\n",
      "    try:\n",
      "        paired_onsets[i] = paired_trigger\n",
      "    except ValueError:\n",
      "        paired_onsets[i] = np.nan"
     ],
     "language": "python",
     "metadata": {},
     "outputs": [],
     "prompt_number": 292
    },
    {
     "cell_type": "code",
     "collapsed": false,
     "input": [
      "_ = hist(stim_onsets - paired_onsets, bins=20, range=(0,200))"
     ],
     "language": "python",
     "metadata": {},
     "outputs": [
      {
       "metadata": {},
       "output_type": "display_data",
       "png": "[encoded data removed]",
       "text": [
        "<matplotlib.figure.Figure at 0x1114ee7d0>"
       ]
      }
     ],
     "prompt_number": 293
    },
    {
     "cell_type": "code",
     "collapsed": false,
     "input": [
      "delays = stim_onsets - paired_onsets\n",
      "delays = delays[~np.isnan(delays)]\n",
      "delay = delays.mean()\n",
      "print delay"
     ],
     "language": "python",
     "metadata": {},
     "outputs": [
      {
       "output_type": "stream",
       "stream": "stdout",
       "text": [
        "69.1176470588\n"
       ]
      }
     ],
     "prompt_number": 294
    },
    {
     "cell_type": "markdown",
     "metadata": {},
     "source": [
      "We can lock the peaks to the start of each trigger.  We really want to lock to the start of the stimulus, but we don't have the onset times for all the stimuli.  There is also an delay between the trigger and stimuli onsets of $7 \\pm 1 \\;ms$.  We'll also grab 1 second of data around each onset so we can have some spontaneous activity too."
     ]
    },
    {
     "cell_type": "code",
     "collapsed": false,
     "input": [
      "# Lock to trigger onset + offset\n",
      "x, y = [], []\n",
      "for i, onset in enumerate(trig_onsets):\n",
      "    time_stamp = peaks[((onset + delay - 10000) < peaks) * \n",
      "                       (peaks < (onset + delay + 11000))] - onset - delay\n",
      "    if time_stamp.any():\n",
      "        x.extend(time_stamp)\n",
      "        y.extend([i]*len(time_stamp))\n",
      "x = np.array(x)/10000.\n",
      "y = np.array(y)\n",
      "scatter(x,y, marker='|')\n",
      "xlim(-0.01,0.1)"
     ],
     "language": "python",
     "metadata": {},
     "outputs": [
      {
       "metadata": {},
       "output_type": "pyout",
       "prompt_number": 308,
       "text": [
        "(-0.01, 0.1)"
       ]
      },
      {
       "metadata": {},
       "output_type": "display_data",
       "png": "[encoded data removed]",
       "text": [
        "<matplotlib.figure.Figure at 0x10e718690>"
       ]
      }
     ],
     "prompt_number": 308
    },
    {
     "cell_type": "markdown",
     "metadata": {},
     "source": [
      "This neuron is responsive to the stimulus, clearly.  It looks like it is pretty active, but if you zoom in, there are only 0-4 spikes per presentation."
     ]
    },
    {
     "cell_type": "markdown",
     "metadata": {},
     "source": [
      "So what I want to do now is put all the data into a pandas data frame.  "
     ]
    },
    {
     "cell_type": "code",
     "collapsed": false,
     "input": [
      "data = build_dframe(peaks, tr_onsets, stims)"
     ],
     "language": "python",
     "metadata": {},
     "outputs": [],
     "prompt_number": 326
    },
    {
     "cell_type": "code",
     "collapsed": false,
     "input": [
      "data"
     ],
     "language": "python",
     "metadata": {},
     "outputs": [
      {
       "metadata": {},
       "output_type": "pyout",
       "prompt_number": 327,
       "text": [
        "<class 'pandas.core.frame.DataFrame'>\n",
        "Int64Index: 336 entries, 0 to 335\n",
        "Data columns:\n",
        "stimulus      336  non-null values\n",
        "stimlength    336  non-null values\n",
        "amplitude     336  non-null values\n",
        "duration      336  non-null values\n",
        "frequency     336  non-null values\n",
        "ramp          336  non-null values\n",
        "spikes        336  non-null values\n",
        "dtypes: float64(1), int64(4), object(2)"
       ]
      }
     ],
     "prompt_number": 327
    },
    {
     "cell_type": "code",
     "collapsed": false,
     "input": [],
     "language": "python",
     "metadata": {},
     "outputs": [
      {
       "metadata": {},
       "output_type": "pyout",
       "prompt_number": 328,
       "text": [
        "stimulus       object\n",
        "stimlength      int64\n",
        "amplitude       int64\n",
        "duration        int64\n",
        "frequency     float64\n",
        "ramp            int64\n",
        "spikes         object"
       ]
      }
     ],
     "prompt_number": 328
    },
    {
     "cell_type": "code",
     "collapsed": false,
     "input": [],
     "language": "python",
     "metadata": {},
     "outputs": []
    }
   ],
   "metadata": {}
  }
 ]
}