{
 "metadata": {
  "name": "Sparse data"
 },
 "nbformat": 3,
 "nbformat_minor": 0,
 "worksheets": [
  {
   "cells": [
    {
     "cell_type": "code",
     "collapsed": false,
     "input": [
      "%pylab inline"
     ],
     "language": "python",
     "metadata": {},
     "outputs": [
      {
       "output_type": "stream",
       "stream": "stdout",
       "text": [
        "\n",
        "Welcome to pylab, a matplotlib-based Python environment [backend: module://IPython.kernel.zmq.pylab.backend_inline].\n",
        "For more information, type 'help(pylab)'.\n"
       ]
      }
     ],
     "prompt_number": 1
    },
    {
     "cell_type": "code",
     "collapsed": false,
     "input": [
      "import os\n",
      "import sparse\n",
      "from sparse.process import *"
     ],
     "language": "python",
     "metadata": {},
     "outputs": [],
     "prompt_number": 5
    },
    {
     "cell_type": "code",
     "collapsed": false,
     "input": [
      "reload(sparse.process)\n",
      "from sparse.process import *"
     ],
     "language": "python",
     "metadata": {},
     "outputs": [],
     "prompt_number": 102
    },
    {
     "cell_type": "markdown",
     "metadata": {},
     "source": [
      "First, get a list of the data files.  I'm only going to analzye data from one cell for now.  So let's load the first one."
     ]
    },
    {
     "cell_type": "code",
     "collapsed": false,
     "input": [
      "datadir = '/Users/mat/Data/cell attached data/'\n",
      "files = os.listdir(datadir)\n",
      "daqs = [ f for f in files if 'daq' in f ]"
     ],
     "language": "python",
     "metadata": {},
     "outputs": [],
     "prompt_number": 3
    },
    {
     "cell_type": "code",
     "collapsed": false,
     "input": [
      "data, stims = sparse.io.load_file(datadir + daqs[0])"
     ],
     "language": "python",
     "metadata": {},
     "outputs": [
      {
       "output_type": "stream",
       "stream": "stdout",
       "text": [
        "/Users/mat/Data/cell attached data/daq_20111202-xxx999-001-002.mat\n"
       ]
      }
     ],
     "prompt_number": 193
    },
    {
     "cell_type": "code",
     "collapsed": false,
     "input": [
      "signal = data['signal']\n",
      "spikes, peaks = detect_spikes(signal, threshold=5)"
     ],
     "language": "python",
     "metadata": {},
     "outputs": [],
     "prompt_number": 6
    },
    {
     "cell_type": "markdown",
     "metadata": {},
     "source": [
      "Seems like setting a threshold of 5 works best here.  Otherwise I also detect noise.  Alright!  Plotting the filtered data and marking the detected spikes.  Now I have spike times.  Getting stimulus onsets now."
     ]
    },
    {
     "cell_type": "code",
     "collapsed": false,
     "input": [
      "filtered = butter_filter(signal, rate=20000)\n",
      "plot(peaks, [1]*len(peaks), 'ok')\n",
      "plot(filtered)\n",
      "xlim(12000,13600)"
     ],
     "language": "python",
     "metadata": {},
     "outputs": [
      {
       "metadata": {},
       "output_type": "pyout",
       "prompt_number": 7,
       "text": [
        "(12000, 13600)"
       ]
      },
      {
       "metadata": {},
       "output_type": "display_data",
       "png": "[encoded data removed]",
       "text": [
        "<matplotlib.figure.Figure at 0x10d400cd0>"
       ]
      }
     ],
     "prompt_number": 7
    },
    {
     "cell_type": "code",
     "collapsed": false,
     "input": [
      "triggers = censor(crossings(data['trigger'], 0.5), width=1000)\n",
      "_, tr_onsets = extract(data['trigger'], triggers, offset=-7)\n",
      "plot(data['trigger']/5.0)\n",
      "plot(tr_onsets, [1]*len(tr_onsets), 'ok')\n",
      "ylim(0,1.2)\n",
      "xlim(81900,82000)"
     ],
     "language": "python",
     "metadata": {},
     "outputs": [
      {
       "metadata": {},
       "output_type": "pyout",
       "prompt_number": 121,
       "text": [
        "(81900, 82000)"
       ]
      },
      {
       "metadata": {},
       "output_type": "display_data",
       "png": "[encoded data removed]",
       "text": [
        "<matplotlib.figure.Figure at 0x10dbf08d0>"
       ]
      }
     ],
     "prompt_number": 121
    },
    {
     "cell_type": "code",
     "collapsed": false,
     "input": [
      "#remove DC offset\n",
      "filt_stim = butter_filter(data['stimulus'], low=1, high=4999, rate=10000)\n",
      "filt_stim = np.abs(filt_stim)\n",
      "stim_thresh = medthresh(filt_stim, threshold=5)\n",
      "stims = censor(crossings(filt_stim, stim_thresh),width=2000)\n",
      "wvfrms, stim_onsets = extract(filt_stim, stims, offset=-15)\n",
      "plot(filt_stim)\n",
      "plot(stim_onsets, [1]*len(stim_onsets), 'ok')\n",
      "plot(data['trigger']/5.0)\n",
      "plot(tr_onsets, [1]*len(tr_onsets), 'or')\n",
      "#ylim(0,0.05)\n",
      "xlim(81800,83000)"
     ],
     "language": "python",
     "metadata": {},
     "outputs": [
      {
       "metadata": {},
       "output_type": "pyout",
       "prompt_number": 135,
       "text": [
        "(81800, 83000)"
       ]
      },
      {
       "metadata": {},
       "output_type": "display_data",
       "png": "[encoded data removed]",
       "text": [
        "<matplotlib.figure.Figure at 0x10d9b8c10>"
       ]
      }
     ],
     "prompt_number": 135
    },
    {
     "cell_type": "markdown",
     "metadata": {},
     "source": [
      "I'm going to have to accept that there are triggers without corresponding signals in the speaker voltage.  Do I pretend there are actual stimuli there?  Or do I only analyze data where I know there was a stimulus?"
     ]
    },
    {
     "cell_type": "code",
     "collapsed": false,
     "input": [
      "# The data cuts off during the last stimulus here\n",
      "responses = np.zeros((len(stim_onsets)-1, 2040))\n",
      "for i, samp in enumerate(stim_onsets[:-1]):\n",
      "    responses[i,:] = filtered[samp-20:samp+2020]\n",
      "responses"
     ],
     "language": "python",
     "metadata": {},
     "outputs": [
      {
       "metadata": {},
       "output_type": "pyout",
       "prompt_number": 123,
       "text": [
        "array([[-0.00213957, -0.02437722, -0.02943926, ..., -0.003127  ,\n",
        "         0.00084061, -0.00301522],\n",
        "       [ 0.10607785,  0.11068924,  0.09801193, ...,  0.03893116,\n",
        "        -0.02331969, -0.08128884],\n",
        "       [-0.06448827, -0.05964256, -0.05410246, ...,  0.02997639,\n",
        "        -0.05295488, -0.0518556 ],\n",
        "       ..., \n",
        "       [-0.10091517, -0.10030922, -0.06963518, ..., -0.02634895,\n",
        "        -0.01388864, -0.02531117],\n",
        "       [-0.01914198, -0.02511853, -0.04552697, ...,  0.00964152,\n",
        "        -0.06774199, -0.05926234],\n",
        "       [-0.15959128, -0.07461304,  0.11721192, ..., -0.01700185,\n",
        "        -0.01477544, -0.00918211]])"
       ]
      }
     ],
     "prompt_number": 123
    },
    {
     "cell_type": "code",
     "collapsed": false,
     "input": [
      "paired_onsets = np.zeros(len(stim_onsets))\n",
      "for i, onset in enumerate(stim_onsets):\n",
      "    paired_trigger = tr_onsets[np.where(np.abs(onset-tr_onsets)<150)]\n",
      "    try:\n",
      "        paired_onsets[i] = paired_trigger\n",
      "    except ValueError:\n",
      "        paired_onsets[i] = np.nan"
     ],
     "language": "python",
     "metadata": {},
     "outputs": [],
     "prompt_number": 124
    },
    {
     "cell_type": "code",
     "collapsed": false,
     "input": [
      "_ = hist(stim_onsets - paired_onsets, bins=20, range=(0,200))"
     ],
     "language": "python",
     "metadata": {},
     "outputs": [
      {
       "metadata": {},
       "output_type": "display_data",
       "png": "[encoded data removed]",
       "text": [
        "<matplotlib.figure.Figure at 0x10d9866d0>"
       ]
      }
     ],
     "prompt_number": 125
    },
    {
     "cell_type": "code",
     "collapsed": false,
     "input": [
      "offsets = stim_onsets - paired_onsets\n",
      "offsets = offsets[~np.isnan(offsets)]"
     ],
     "language": "python",
     "metadata": {},
     "outputs": [],
     "prompt_number": 127
    },
    {
     "cell_type": "code",
     "collapsed": false,
     "input": [
      "offset = mean(offsets)\n",
      "offset"
     ],
     "language": "python",
     "metadata": {},
     "outputs": [
      {
       "metadata": {},
       "output_type": "pyout",
       "prompt_number": 191,
       "text": [
        "72.094117647058823"
       ]
      }
     ],
     "prompt_number": 191
    },
    {
     "cell_type": "markdown",
     "metadata": {},
     "source": [
      "We can lock the peaks to the start of each trigger.  We really want to lock to the start of the stimulus, but we don't have the onset times for all the stimuli.  There is also an offset between the trigger and stimuli onsets of $7 \\pm 1 \\;ms$."
     ]
    },
    {
     "cell_type": "code",
     "collapsed": false,
     "input": [
      "# Lock to trigger onset + offset\n",
      "x, y = [], []\n",
      "for i, onset in enumerate(tr_onsets):\n",
      "    time_stamp = peaks[((onset + offset - 10000) < peaks) * \n",
      "                       (peaks < (onset + offset+11000))] - onset - offset\n",
      "    if time_stamp.any():\n",
      "        x.extend(time_stamp)\n",
      "        y.extend([i]*len(time_stamp))\n",
      "x = np.array(x)/10000.\n",
      "y = np.array(y)"
     ],
     "language": "python",
     "metadata": {},
     "outputs": [],
     "prompt_number": 204
    },
    {
     "cell_type": "code",
     "collapsed": false,
     "input": [
      "scatter(x, y, marker='|')"
     ],
     "language": "python",
     "metadata": {},
     "outputs": [
      {
       "metadata": {},
       "output_type": "pyout",
       "prompt_number": 203,
       "text": [
        "<matplotlib.collections.PathCollection at 0x10e6eb9d0>"
       ]
      },
      {
       "metadata": {},
       "output_type": "display_data",
       "png": "[encoded data removed]",
       "text": [
        "<matplotlib.figure.Figure at 0x10e386b10>"
       ]
      }
     ],
     "prompt_number": 203
    },
    {
     "cell_type": "code",
     "collapsed": false,
     "input": [
      "stims"
     ],
     "language": "python",
     "metadata": {},
     "outputs": [
      {
       "metadata": {},
       "output_type": "pyout",
       "prompt_number": 194,
       "text": [
        "array([('tone', 205, 8, 100, 7053.007970277275, 3),\n",
        "       ('tone', 205, 28, 100, 9665.191635171643, 3),\n",
        "       ('tone', 205, 8, 100, 4396.633174412356, 3),\n",
        "       ('tone', 205, 28, 100, 5146.8117039472845, 3),\n",
        "       ('tone', 205, 48, 100, 2341.2513620198442, 3),\n",
        "       ('tone', 205, 8, 100, 13244.835357944372, 3),\n",
        "       ('tone', 205, 68, 100, 39900.000000000015, 3),\n",
        "       ('tone', 205, 68, 100, 3208.3677170633932, 3),\n",
        "       ('tone', 205, 68, 100, 11314.321540014207, 3),\n",
        "       ('tone', 205, 28, 100, 7053.007970277275, 3),\n",
        "       ('tone', 205, 28, 100, 29116.341262183985, 3),\n",
        "       ('tone', 205, 28, 100, 2000.0000000000002, 3),\n",
        "       ('tone', 205, 8, 100, 11314.321540014207, 3),\n",
        "       ('tone', 205, 68, 100, 7053.007970277275, 3),\n",
        "       ('tone', 205, 68, 100, 18150.251984728275, 3),\n",
        "       ('tone', 205, 28, 100, 18150.251984728275, 3),\n",
        "       ('tone', 205, 68, 100, 8256.432258374241, 3),\n",
        "       ('tone', 205, 28, 100, 3208.3677170633932, 3),\n",
        "       ('tone', 205, 48, 100, 2740.7289700798874, 3),\n",
        "       ('tone', 205, 28, 100, 15504.744410757909, 3),\n",
        "       ('tone', 205, 28, 100, 2341.2513620198442, 3),\n",
        "       ('tone', 205, 48, 100, 18150.251984728275, 3),\n",
        "       ('tone', 205, 8, 100, 2740.7289700798874, 3),\n",
        "       ('tone', 205, 28, 100, 21247.151090124244, 3),\n",
        "       ('tone', 205, 48, 100, 7053.007970277275, 3),\n",
        "       ('tone', 205, 68, 100, 13244.835357944372, 3),\n",
        "       ('tone', 205, 48, 100, 29116.341262183985, 3),\n",
        "       ('tone', 205, 28, 100, 24872.460714397374, 3),\n",
        "       ('tone', 205, 8, 100, 21247.151090124244, 3),\n",
        "       ('tone', 205, 48, 100, 4396.633174412356, 3),\n",
        "       ('tone', 205, 8, 100, 5146.8117039472845, 3),\n",
        "       ('whitenoise', 205, 8, 100, 666.0, 3),\n",
        "       ('tone', 205, 8, 100, 3208.3677170633932, 3),\n",
        "       ('tone', 205, 68, 100, 2341.2513620198442, 3),\n",
        "       ('tone', 205, 28, 100, 8256.432258374241, 3),\n",
        "       ('tone', 205, 68, 100, 29116.341262183985, 3),\n",
        "       ('tone', 205, 68, 100, 3755.797643717583, 3),\n",
        "       ('tone', 205, 68, 100, 34084.33681856138, 3),\n",
        "       ('tone', 205, 8, 100, 9665.191635171643, 3),\n",
        "       ('tone', 205, 8, 100, 24872.460714397374, 3),\n",
        "       ('tone', 205, 28, 100, 13244.835357944372, 3),\n",
        "       ('tone', 205, 8, 100, 18150.251984728275, 3),\n",
        "       ('tone', 205, 48, 100, 34084.33681856138, 3),\n",
        "       ('tone', 205, 68, 100, 9665.191635171643, 3),\n",
        "       ('tone', 205, 68, 100, 2000.0000000000002, 3),\n",
        "       ('tone', 205, 48, 100, 15504.744410757909, 3),\n",
        "       ('tone', 205, 48, 100, 21247.151090124244, 3),\n",
        "       ('tone', 205, 28, 100, 39900.000000000015, 3),\n",
        "       ('tone', 205, 28, 100, 6024.989955963127, 3),\n",
        "       ('tone', 205, 48, 100, 24872.460714397374, 3),\n",
        "       ('tone', 205, 68, 100, 21247.151090124244, 3),\n",
        "       ('tone', 205, 68, 100, 15504.744410757909, 3),\n",
        "       ('tone', 205, 48, 100, 13244.835357944372, 3),\n",
        "       ('tone', 205, 8, 100, 2000.0000000000002, 3),\n",
        "       ('tone', 205, 68, 100, 5146.8117039472845, 3),\n",
        "       ('tone', 205, 8, 100, 15504.744410757909, 3),\n",
        "       ('tone', 205, 8, 100, 34084.33681856138, 3),\n",
        "       ('tone', 205, 48, 100, 9665.191635171643, 3),\n",
        "       ('tone', 205, 8, 100, 8256.432258374241, 3),\n",
        "       ('whitenoise', 205, 48, 100, 666.0, 3),\n",
        "       ('tone', 205, 28, 100, 34084.33681856138, 3),\n",
        "       ('tone', 205, 68, 100, 4396.633174412356, 3),\n",
        "       ('tone', 205, 68, 100, 2740.7289700798874, 3),\n",
        "       ('tone', 205, 48, 100, 3208.3677170633932, 3),\n",
        "       ('tone', 205, 8, 100, 6024.989955963127, 3),\n",
        "       ('tone', 205, 8, 100, 39900.000000000015, 3),\n",
        "       ('tone', 205, 28, 100, 2740.7289700798874, 3),\n",
        "       ('tone', 205, 8, 100, 29116.341262183985, 3),\n",
        "       ('tone', 205, 48, 100, 5146.8117039472845, 3),\n",
        "       ('tone', 205, 68, 100, 24872.460714397374, 3),\n",
        "       ('tone', 205, 8, 100, 2341.2513620198442, 3),\n",
        "       ('tone', 205, 48, 100, 8256.432258374241, 3),\n",
        "       ('tone', 205, 48, 100, 6024.989955963127, 3),\n",
        "       ('tone', 205, 8, 100, 3755.797643717583, 3),\n",
        "       ('whitenoise', 205, 68, 100, 666.0, 3),\n",
        "       ('tone', 205, 28, 100, 11314.321540014207, 3),\n",
        "       ('tone', 205, 68, 100, 6024.989955963127, 3),\n",
        "       ('tone', 205, 48, 100, 11314.321540014207, 3),\n",
        "       ('tone', 205, 48, 100, 39900.000000000015, 3),\n",
        "       ('tone', 205, 48, 100, 3755.797643717583, 3),\n",
        "       ('tone', 205, 48, 100, 2000.0000000000002, 3),\n",
        "       ('tone', 205, 28, 100, 3755.797643717583, 3),\n",
        "       ('whitenoise', 205, 28, 100, 666.0, 3),\n",
        "       ('tone', 205, 28, 100, 4396.633174412356, 3),\n",
        "       ('tone', 205, 28, 100, 18150.251984728275, 3),\n",
        "       ('tone', 205, 68, 100, 24872.460714397374, 3),\n",
        "       ('tone', 205, 68, 100, 21247.151090124244, 3),\n",
        "       ('tone', 205, 28, 100, 39900.000000000015, 3),\n",
        "       ('tone', 205, 68, 100, 3208.3677170633932, 3),\n",
        "       ('tone', 205, 8, 100, 7053.007970277275, 3),\n",
        "       ('whitenoise', 205, 28, 100, 666.0, 3),\n",
        "       ('tone', 205, 48, 100, 3755.797643717583, 3),\n",
        "       ('tone', 205, 68, 100, 34084.33681856138, 3),\n",
        "       ('tone', 205, 8, 100, 3755.797643717583, 3),\n",
        "       ('tone', 205, 68, 100, 11314.321540014207, 3),\n",
        "       ('tone', 205, 8, 100, 39900.000000000015, 3),\n",
        "       ('whitenoise', 205, 48, 100, 666.0, 3),\n",
        "       ('tone', 205, 48, 100, 8256.432258374241, 3),\n",
        "       ('tone', 205, 68, 100, 4396.633174412356, 3),\n",
        "       ('tone', 205, 8, 100, 13244.835357944372, 3),\n",
        "       ('tone', 205, 48, 100, 2000.0000000000002, 3),\n",
        "       ('tone', 205, 48, 100, 15504.744410757909, 3),\n",
        "       ('tone', 205, 8, 100, 2341.2513620198442, 3),\n",
        "       ('tone', 205, 68, 100, 8256.432258374241, 3),\n",
        "       ('tone', 205, 8, 100, 2000.0000000000002, 3),\n",
        "       ('tone', 205, 28, 100, 21247.151090124244, 3),\n",
        "       ('tone', 205, 68, 100, 6024.989955963127, 3),\n",
        "       ('tone', 205, 28, 100, 24872.460714397374, 3),\n",
        "       ('tone', 205, 68, 100, 2341.2513620198442, 3),\n",
        "       ('tone', 205, 68, 100, 9665.191635171643, 3),\n",
        "       ('tone', 205, 8, 100, 24872.460714397374, 3),\n",
        "       ('tone', 205, 28, 100, 29116.341262183985, 3),\n",
        "       ('tone', 205, 8, 100, 21247.151090124244, 3),\n",
        "       ('tone', 205, 28, 100, 3208.3677170633932, 3),\n",
        "       ('whitenoise', 205, 8, 100, 666.0, 3),\n",
        "       ('tone', 205, 8, 100, 11314.321540014207, 3),\n",
        "       ('tone', 205, 28, 100, 2341.2513620198442, 3),\n",
        "       ('tone', 205, 28, 100, 2740.7289700798874, 3),\n",
        "       ('tone', 205, 8, 100, 9665.191635171643, 3),\n",
        "       ('tone', 205, 28, 100, 6024.989955963127, 3),\n",
        "       ('tone', 205, 68, 100, 18150.251984728275, 3),\n",
        "       ('tone', 205, 8, 100, 29116.341262183985, 3),\n",
        "       ('tone', 205, 48, 100, 7053.007970277275, 3),\n",
        "       ('tone', 205, 8, 100, 6024.989955963127, 3),\n",
        "       ('tone', 205, 68, 100, 5146.8117039472845, 3),\n",
        "       ('tone', 205, 48, 100, 18150.251984728275, 3),\n",
        "       ('tone', 205, 68, 100, 15504.744410757909, 3),\n",
        "       ('tone', 205, 48, 100, 3208.3677170633932, 3),\n",
        "       ('tone', 205, 68, 100, 2000.0000000000002, 3),\n",
        "       ('tone', 205, 48, 100, 5146.8117039472845, 3),\n",
        "       ('tone', 205, 28, 100, 8256.432258374241, 3),\n",
        "       ('tone', 205, 28, 100, 9665.191635171643, 3),\n",
        "       ('tone', 205, 48, 100, 13244.835357944372, 3),\n",
        "       ('tone', 205, 8, 100, 2740.7289700798874, 3),\n",
        "       ('tone', 205, 28, 100, 4396.633174412356, 3),\n",
        "       ('tone', 205, 8, 100, 18150.251984728275, 3),\n",
        "       ('tone', 205, 28, 100, 13244.835357944372, 3),\n",
        "       ('tone', 205, 8, 100, 3208.3677170633932, 3),\n",
        "       ('tone', 205, 68, 100, 2740.7289700798874, 3),\n",
        "       ('tone', 205, 8, 100, 8256.432258374241, 3),\n",
        "       ('tone', 205, 8, 100, 34084.33681856138, 3),\n",
        "       ('tone', 205, 68, 100, 29116.341262183985, 3),\n",
        "       ('tone', 205, 48, 100, 29116.341262183985, 3),\n",
        "       ('tone', 205, 8, 100, 4396.633174412356, 3),\n",
        "       ('tone', 205, 28, 100, 5146.8117039472845, 3),\n",
        "       ('tone', 205, 28, 100, 2000.0000000000002, 3),\n",
        "       ('tone', 205, 8, 100, 15504.744410757909, 3),\n",
        "       ('tone', 205, 48, 100, 4396.633174412356, 3),\n",
        "       ('tone', 205, 68, 100, 7053.007970277275, 3),\n",
        "       ('tone', 205, 8, 100, 5146.8117039472845, 3),\n",
        "       ('tone', 205, 48, 100, 2341.2513620198442, 3),\n",
        "       ('tone', 205, 28, 100, 15504.744410757909, 3),\n",
        "       ('tone', 205, 48, 100, 9665.191635171643, 3),\n",
        "       ('tone', 205, 48, 100, 6024.989955963127, 3),\n",
        "       ('tone', 205, 48, 100, 11314.321540014207, 3),\n",
        "       ('whitenoise', 205, 68, 100, 666.0, 3),\n",
        "       ('tone', 205, 28, 100, 11314.321540014207, 3),\n",
        "       ('tone', 205, 28, 100, 34084.33681856138, 3),\n",
        "       ('tone', 205, 48, 100, 21247.151090124244, 3),\n",
        "       ('tone', 205, 48, 100, 2740.7289700798874, 3),\n",
        "       ('tone', 205, 28, 100, 3755.797643717583, 3),\n",
        "       ('tone', 205, 48, 100, 39900.000000000015, 3),\n",
        "       ('tone', 205, 68, 100, 3755.797643717583, 3),\n",
        "       ('tone', 205, 48, 100, 34084.33681856138, 3),\n",
        "       ('tone', 205, 48, 100, 24872.460714397374, 3),\n",
        "       ('tone', 205, 28, 100, 7053.007970277275, 3),\n",
        "       ('tone', 205, 68, 100, 39900.000000000015, 3),\n",
        "       ('tone', 205, 68, 100, 13244.835357944372, 3),\n",
        "       ('tone', 205, 8, 100, 7053.007970277275, 3),\n",
        "       ('tone', 205, 28, 100, 9665.191635171643, 3),\n",
        "       ('tone', 205, 8, 100, 4396.633174412356, 3),\n",
        "       ('tone', 205, 28, 100, 5146.8117039472845, 3),\n",
        "       ('tone', 205, 48, 100, 2341.2513620198442, 3),\n",
        "       ('tone', 205, 8, 100, 13244.835357944372, 3),\n",
        "       ('tone', 205, 68, 100, 39900.000000000015, 3),\n",
        "       ('tone', 205, 68, 100, 3208.3677170633932, 3),\n",
        "       ('tone', 205, 68, 100, 11314.321540014207, 3),\n",
        "       ('tone', 205, 28, 100, 7053.007970277275, 3),\n",
        "       ('tone', 205, 28, 100, 29116.341262183985, 3),\n",
        "       ('tone', 205, 28, 100, 2000.0000000000002, 3),\n",
        "       ('tone', 205, 8, 100, 11314.321540014207, 3),\n",
        "       ('tone', 205, 68, 100, 7053.007970277275, 3),\n",
        "       ('tone', 205, 68, 100, 18150.251984728275, 3),\n",
        "       ('tone', 205, 28, 100, 18150.251984728275, 3),\n",
        "       ('tone', 205, 68, 100, 8256.432258374241, 3),\n",
        "       ('tone', 205, 28, 100, 3208.3677170633932, 3),\n",
        "       ('tone', 205, 48, 100, 2740.7289700798874, 3),\n",
        "       ('tone', 205, 28, 100, 15504.744410757909, 3),\n",
        "       ('tone', 205, 28, 100, 2341.2513620198442, 3),\n",
        "       ('tone', 205, 48, 100, 18150.251984728275, 3),\n",
        "       ('tone', 205, 8, 100, 2740.7289700798874, 3),\n",
        "       ('tone', 205, 28, 100, 21247.151090124244, 3),\n",
        "       ('tone', 205, 48, 100, 7053.007970277275, 3),\n",
        "       ('tone', 205, 68, 100, 13244.835357944372, 3),\n",
        "       ('tone', 205, 48, 100, 29116.341262183985, 3),\n",
        "       ('tone', 205, 28, 100, 24872.460714397374, 3),\n",
        "       ('tone', 205, 8, 100, 21247.151090124244, 3),\n",
        "       ('tone', 205, 48, 100, 4396.633174412356, 3),\n",
        "       ('tone', 205, 8, 100, 5146.8117039472845, 3),\n",
        "       ('whitenoise', 205, 8, 100, 666.0, 3),\n",
        "       ('tone', 205, 8, 100, 3208.3677170633932, 3),\n",
        "       ('tone', 205, 68, 100, 2341.2513620198442, 3),\n",
        "       ('tone', 205, 28, 100, 8256.432258374241, 3),\n",
        "       ('tone', 205, 68, 100, 29116.341262183985, 3),\n",
        "       ('tone', 205, 68, 100, 3755.797643717583, 3),\n",
        "       ('tone', 205, 68, 100, 34084.33681856138, 3),\n",
        "       ('tone', 205, 8, 100, 9665.191635171643, 3),\n",
        "       ('tone', 205, 8, 100, 24872.460714397374, 3),\n",
        "       ('tone', 205, 28, 100, 13244.835357944372, 3),\n",
        "       ('tone', 205, 8, 100, 18150.251984728275, 3),\n",
        "       ('tone', 205, 48, 100, 34084.33681856138, 3),\n",
        "       ('tone', 205, 68, 100, 9665.191635171643, 3),\n",
        "       ('tone', 205, 68, 100, 2000.0000000000002, 3),\n",
        "       ('tone', 205, 48, 100, 15504.744410757909, 3),\n",
        "       ('tone', 205, 48, 100, 21247.151090124244, 3),\n",
        "       ('tone', 205, 28, 100, 39900.000000000015, 3),\n",
        "       ('tone', 205, 28, 100, 6024.989955963127, 3),\n",
        "       ('tone', 205, 48, 100, 24872.460714397374, 3),\n",
        "       ('tone', 205, 68, 100, 21247.151090124244, 3),\n",
        "       ('tone', 205, 68, 100, 15504.744410757909, 3),\n",
        "       ('tone', 205, 48, 100, 13244.835357944372, 3),\n",
        "       ('tone', 205, 8, 100, 2000.0000000000002, 3),\n",
        "       ('tone', 205, 68, 100, 5146.8117039472845, 3),\n",
        "       ('tone', 205, 8, 100, 15504.744410757909, 3),\n",
        "       ('tone', 205, 8, 100, 34084.33681856138, 3),\n",
        "       ('tone', 205, 48, 100, 9665.191635171643, 3),\n",
        "       ('tone', 205, 8, 100, 8256.432258374241, 3),\n",
        "       ('whitenoise', 205, 48, 100, 666.0, 3),\n",
        "       ('tone', 205, 28, 100, 34084.33681856138, 3),\n",
        "       ('tone', 205, 68, 100, 4396.633174412356, 3),\n",
        "       ('tone', 205, 68, 100, 2740.7289700798874, 3),\n",
        "       ('tone', 205, 48, 100, 3208.3677170633932, 3),\n",
        "       ('tone', 205, 8, 100, 6024.989955963127, 3),\n",
        "       ('tone', 205, 8, 100, 39900.000000000015, 3),\n",
        "       ('tone', 205, 28, 100, 2740.7289700798874, 3),\n",
        "       ('tone', 205, 8, 100, 29116.341262183985, 3),\n",
        "       ('tone', 205, 48, 100, 5146.8117039472845, 3),\n",
        "       ('tone', 205, 68, 100, 24872.460714397374, 3),\n",
        "       ('tone', 205, 8, 100, 2341.2513620198442, 3),\n",
        "       ('tone', 205, 48, 100, 8256.432258374241, 3),\n",
        "       ('tone', 205, 48, 100, 6024.989955963127, 3),\n",
        "       ('tone', 205, 8, 100, 3755.797643717583, 3),\n",
        "       ('whitenoise', 205, 68, 100, 666.0, 3),\n",
        "       ('tone', 205, 28, 100, 11314.321540014207, 3),\n",
        "       ('tone', 205, 68, 100, 6024.989955963127, 3),\n",
        "       ('tone', 205, 48, 100, 11314.321540014207, 3),\n",
        "       ('tone', 205, 48, 100, 39900.000000000015, 3),\n",
        "       ('tone', 205, 48, 100, 3755.797643717583, 3),\n",
        "       ('tone', 205, 48, 100, 2000.0000000000002, 3),\n",
        "       ('tone', 205, 28, 100, 3755.797643717583, 3),\n",
        "       ('whitenoise', 205, 28, 100, 666.0, 3),\n",
        "       ('tone', 205, 28, 100, 4396.633174412356, 3),\n",
        "       ('tone', 205, 28, 100, 18150.251984728275, 3),\n",
        "       ('tone', 205, 68, 100, 24872.460714397374, 3),\n",
        "       ('tone', 205, 68, 100, 21247.151090124244, 3),\n",
        "       ('tone', 205, 28, 100, 39900.000000000015, 3),\n",
        "       ('tone', 205, 68, 100, 3208.3677170633932, 3),\n",
        "       ('tone', 205, 8, 100, 7053.007970277275, 3),\n",
        "       ('whitenoise', 205, 28, 100, 666.0, 3),\n",
        "       ('tone', 205, 48, 100, 3755.797643717583, 3),\n",
        "       ('tone', 205, 68, 100, 34084.33681856138, 3),\n",
        "       ('tone', 205, 8, 100, 3755.797643717583, 3),\n",
        "       ('tone', 205, 68, 100, 11314.321540014207, 3),\n",
        "       ('tone', 205, 8, 100, 39900.000000000015, 3),\n",
        "       ('whitenoise', 205, 48, 100, 666.0, 3),\n",
        "       ('tone', 205, 48, 100, 8256.432258374241, 3),\n",
        "       ('tone', 205, 68, 100, 4396.633174412356, 3),\n",
        "       ('tone', 205, 8, 100, 13244.835357944372, 3),\n",
        "       ('tone', 205, 48, 100, 2000.0000000000002, 3),\n",
        "       ('tone', 205, 48, 100, 15504.744410757909, 3),\n",
        "       ('tone', 205, 8, 100, 2341.2513620198442, 3),\n",
        "       ('tone', 205, 68, 100, 8256.432258374241, 3),\n",
        "       ('tone', 205, 8, 100, 2000.0000000000002, 3),\n",
        "       ('tone', 205, 28, 100, 21247.151090124244, 3),\n",
        "       ('tone', 205, 68, 100, 6024.989955963127, 3),\n",
        "       ('tone', 205, 28, 100, 24872.460714397374, 3),\n",
        "       ('tone', 205, 68, 100, 2341.2513620198442, 3),\n",
        "       ('tone', 205, 68, 100, 9665.191635171643, 3),\n",
        "       ('tone', 205, 8, 100, 24872.460714397374, 3),\n",
        "       ('tone', 205, 28, 100, 29116.341262183985, 3),\n",
        "       ('tone', 205, 8, 100, 21247.151090124244, 3),\n",
        "       ('tone', 205, 28, 100, 3208.3677170633932, 3),\n",
        "       ('whitenoise', 205, 8, 100, 666.0, 3),\n",
        "       ('tone', 205, 8, 100, 11314.321540014207, 3),\n",
        "       ('tone', 205, 28, 100, 2341.2513620198442, 3),\n",
        "       ('tone', 205, 28, 100, 2740.7289700798874, 3),\n",
        "       ('tone', 205, 8, 100, 9665.191635171643, 3),\n",
        "       ('tone', 205, 28, 100, 6024.989955963127, 3),\n",
        "       ('tone', 205, 68, 100, 18150.251984728275, 3),\n",
        "       ('tone', 205, 8, 100, 29116.341262183985, 3),\n",
        "       ('tone', 205, 48, 100, 7053.007970277275, 3),\n",
        "       ('tone', 205, 8, 100, 6024.989955963127, 3),\n",
        "       ('tone', 205, 68, 100, 5146.8117039472845, 3),\n",
        "       ('tone', 205, 48, 100, 18150.251984728275, 3),\n",
        "       ('tone', 205, 68, 100, 15504.744410757909, 3),\n",
        "       ('tone', 205, 48, 100, 3208.3677170633932, 3),\n",
        "       ('tone', 205, 68, 100, 2000.0000000000002, 3),\n",
        "       ('tone', 205, 48, 100, 5146.8117039472845, 3),\n",
        "       ('tone', 205, 28, 100, 8256.432258374241, 3),\n",
        "       ('tone', 205, 28, 100, 9665.191635171643, 3),\n",
        "       ('tone', 205, 48, 100, 13244.835357944372, 3),\n",
        "       ('tone', 205, 8, 100, 2740.7289700798874, 3),\n",
        "       ('tone', 205, 28, 100, 4396.633174412356, 3),\n",
        "       ('tone', 205, 8, 100, 18150.251984728275, 3),\n",
        "       ('tone', 205, 28, 100, 13244.835357944372, 3),\n",
        "       ('tone', 205, 8, 100, 3208.3677170633932, 3),\n",
        "       ('tone', 205, 68, 100, 2740.7289700798874, 3),\n",
        "       ('tone', 205, 8, 100, 8256.432258374241, 3),\n",
        "       ('tone', 205, 8, 100, 34084.33681856138, 3),\n",
        "       ('tone', 205, 68, 100, 29116.341262183985, 3),\n",
        "       ('tone', 205, 48, 100, 29116.341262183985, 3),\n",
        "       ('tone', 205, 8, 100, 4396.633174412356, 3),\n",
        "       ('tone', 205, 28, 100, 5146.8117039472845, 3),\n",
        "       ('tone', 205, 28, 100, 2000.0000000000002, 3),\n",
        "       ('tone', 205, 8, 100, 15504.744410757909, 3),\n",
        "       ('tone', 205, 48, 100, 4396.633174412356, 3),\n",
        "       ('tone', 205, 68, 100, 7053.007970277275, 3),\n",
        "       ('tone', 205, 8, 100, 5146.8117039472845, 3),\n",
        "       ('tone', 205, 48, 100, 2341.2513620198442, 3),\n",
        "       ('tone', 205, 28, 100, 15504.744410757909, 3),\n",
        "       ('tone', 205, 48, 100, 9665.191635171643, 3),\n",
        "       ('tone', 205, 48, 100, 6024.989955963127, 3),\n",
        "       ('tone', 205, 48, 100, 11314.321540014207, 3),\n",
        "       ('whitenoise', 205, 68, 100, 666.0, 3),\n",
        "       ('tone', 205, 28, 100, 11314.321540014207, 3),\n",
        "       ('tone', 205, 28, 100, 34084.33681856138, 3),\n",
        "       ('tone', 205, 48, 100, 21247.151090124244, 3),\n",
        "       ('tone', 205, 48, 100, 2740.7289700798874, 3),\n",
        "       ('tone', 205, 28, 100, 3755.797643717583, 3),\n",
        "       ('tone', 205, 48, 100, 39900.000000000015, 3),\n",
        "       ('tone', 205, 68, 100, 3755.797643717583, 3),\n",
        "       ('tone', 205, 48, 100, 34084.33681856138, 3),\n",
        "       ('tone', 205, 48, 100, 24872.460714397374, 3),\n",
        "       ('tone', 205, 28, 100, 7053.007970277275, 3),\n",
        "       ('tone', 205, 68, 100, 39900.000000000015, 3),\n",
        "       ('tone', 205, 68, 100, 13244.835357944372, 3)], \n",
        "      dtype=[('type', 'S20'), ('stimlength', '<i8'), ('amplitude', '<i8'), ('duration', '<i8'), ('frequency', '<f8'), ('ramp', '<i8')])"
       ]
      }
     ],
     "prompt_number": 194
    },
    {
     "cell_type": "code",
     "collapsed": false,
     "input": [
      "len(stims)"
     ],
     "language": "python",
     "metadata": {},
     "outputs": [
      {
       "metadata": {},
       "output_type": "pyout",
       "prompt_number": 195,
       "text": [
        "336"
       ]
      }
     ],
     "prompt_number": 195
    },
    {
     "cell_type": "code",
     "collapsed": false,
     "input": [
      "len(tr_onsets)"
     ],
     "language": "python",
     "metadata": {},
     "outputs": [
      {
       "metadata": {},
       "output_type": "pyout",
       "prompt_number": 196,
       "text": [
        "336"
       ]
      }
     ],
     "prompt_number": 196
    },
    {
     "cell_type": "code",
     "collapsed": false,
     "input": [
      "import pandas"
     ],
     "language": "python",
     "metadata": {},
     "outputs": [],
     "prompt_number": 197
    },
    {
     "cell_type": "code",
     "collapsed": false,
     "input": [
      "pandas.DataFrame(stims)"
     ],
     "language": "python",
     "metadata": {},
     "outputs": [
      {
       "metadata": {},
       "output_type": "pyout",
       "prompt_number": 198,
       "text": [
        "<class 'pandas.core.frame.DataFrame'>\n",
        "Int64Index: 336 entries, 0 to 335\n",
        "Data columns:\n",
        "type          336  non-null values\n",
        "stimlength    336  non-null values\n",
        "amplitude     336  non-null values\n",
        "duration      336  non-null values\n",
        "frequency     336  non-null values\n",
        "ramp          336  non-null values\n",
        "dtypes: float64(1), int64(4), object(1)"
       ]
      }
     ],
     "prompt_number": 198
    },
    {
     "cell_type": "code",
     "collapsed": false,
     "input": [],
     "language": "python",
     "metadata": {},
     "outputs": []
    }
   ],
   "metadata": {}
  }
 ]
}