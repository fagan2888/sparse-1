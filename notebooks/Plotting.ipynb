{
 "metadata": {
  "name": "Plotting"
 },
 "nbformat": 3,
 "nbformat_minor": 0,
 "worksheets": [
  {
   "cells": [
    {
     "cell_type": "heading",
     "level": 3,
     "metadata": {},
     "source": [
      "Plots"
     ]
    },
    {
     "cell_type": "markdown",
     "metadata": {},
     "source": [
      "This notebook will be dedicated to developing plots of the data.  In general, I'll develop the code for a figure here, then copy it to the plots.py module so it can be called from the sparse package."
     ]
    },
    {
     "cell_type": "code",
     "collapsed": false,
     "input": [
      "import os\n",
      "import sparse"
     ],
     "language": "python",
     "metadata": {},
     "outputs": [],
     "prompt_number": 22
    },
    {
     "cell_type": "code",
     "collapsed": false,
     "input": [
      "%pylab inline"
     ],
     "language": "python",
     "metadata": {},
     "outputs": [
      {
       "output_type": "stream",
       "stream": "stdout",
       "text": [
        "\n",
        "Welcome to pylab, a matplotlib-based Python environment [backend: module://IPython.kernel.zmq.pylab.backend_inline].\n",
        "For more information, type 'help(pylab)'.\n"
       ]
      }
     ],
     "prompt_number": 37
    },
    {
     "cell_type": "code",
     "collapsed": false,
     "input": [
      "datadir = '/Users/mat/Data/cell attached data/'\n",
      "files = os.listdir(datadir)\n",
      "daqs = [ f for f in files if 'daq' in f ]\n",
      "ephys, exper = sparse.io.load_file(datadir+daqs[0])\n",
      "data = sparse.process_data(ephys, exper)"
     ],
     "language": "python",
     "metadata": {},
     "outputs": [],
     "prompt_number": 31
    },
    {
     "cell_type": "markdown",
     "metadata": {},
     "source": [
      "**Raster plot**"
     ]
    },
    {
     "cell_type": "code",
     "collapsed": false,
     "input": [
      "spikes = data['spikes']\n",
      "x = np.concatenate(spikes.values)*1000.\n",
      "y = [ [i]*j for i, j in enumerate(spikes.map(len)) ]\n",
      "y = np.concatenate(y)"
     ],
     "language": "python",
     "metadata": {},
     "outputs": [],
     "prompt_number": 56
    },
    {
     "cell_type": "code",
     "collapsed": false,
     "input": [
      "plt.scatter(x, y, marker = '|')\n",
      "plt.plot([0,0], [0,spikes.count()], '--', color = 'grey')\n",
      "plt.xlim(-50,150)\n",
      "plt.ylim(0,spikes.count())\n",
      "plt.xlabel('Time from stimulus onset (ms)')\n",
      "plt.ylabel('Trial number')"
     ],
     "language": "python",
     "metadata": {},
     "outputs": [
      {
       "metadata": {},
       "output_type": "pyout",
       "prompt_number": 64,
       "text": [
        "<matplotlib.text.Text at 0x115fc2250>"
       ]
      },
      {
       "metadata": {},
       "output_type": "display_data",
       "png": "[encoded data removed]",
       "text": [
        "<matplotlib.figure.Figure at 0x115fb8e50>"
       ]
      }
     ],
     "prompt_number": 64
    },
    {
     "cell_type": "code",
     "collapsed": false,
     "input": [
      "reload(plots)"
     ],
     "language": "python",
     "metadata": {},
     "outputs": [
      {
       "metadata": {},
       "output_type": "pyout",
       "prompt_number": 105,
       "text": [
        "<module 'sparse.plots' from '/Users/mat/Dropbox/Code/sparse/plots.py'>"
       ]
      }
     ],
     "prompt_number": 105
    },
    {
     "cell_type": "code",
     "collapsed": false,
     "input": [
      "freqs = data['frequency'].unique()\n",
      "amps = data['amplitude'].unique()\n",
      "stims = data.groupby(by=['amplitude', 'frequency'])\n",
      "plots.raster(stims.get_group((amps[2], freqs[0])))\n",
      "title('{} db {} Hz tone'.format(amps[2],freqs[0]))"
     ],
     "language": "python",
     "metadata": {},
     "outputs": [
      {
       "metadata": {},
       "output_type": "pyout",
       "prompt_number": 112,
       "text": [
        "<matplotlib.text.Text at 0x116c46090>"
       ]
      },
      {
       "metadata": {},
       "output_type": "display_data",
       "png": "[encoded data removed]",
       "text": [
        "<matplotlib.figure.Figure at 0x116d32890>"
       ]
      }
     ],
     "prompt_number": 112
    },
    {
     "cell_type": "code",
     "collapsed": false,
     "input": [
      "amps "
     ],
     "language": "python",
     "metadata": {},
     "outputs": [
      {
       "metadata": {},
       "output_type": "pyout",
       "prompt_number": 108,
       "text": [
        "array([ 8, 28, 48, 68])"
       ]
      }
     ],
     "prompt_number": 108
    },
    {
     "cell_type": "code",
     "collapsed": false,
     "input": [],
     "language": "python",
     "metadata": {},
     "outputs": []
    }
   ],
   "metadata": {}
  }
 ]
}